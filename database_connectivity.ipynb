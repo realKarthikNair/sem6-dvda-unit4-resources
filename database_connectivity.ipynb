{
 "cells": [
  {
   "cell_type": "markdown",
   "metadata": {},
   "source": [
    "# Database Access using Python\n",
    "\n",
    "> By Karthik Nair\n",
    "\n",
    "We will use both sqlite3 and mysql-connector-python to access databases using Python.\n",
    "\n",
    "## SQLite3 vs MySQL\n",
    "\n",
    "SQLite3 is a serverless database that is stored in a single file. It is a good choice for small applications, particularly those that need a small footprint. It is also a good choice for prototyping and testing. It is not suitable for large-scale applications.\n",
    "\n",
    "MySQL is a full-featured, open-source relational database management system. It is suitable for large-scale applications.\n"
   ]
  },
  {
   "cell_type": "code",
   "execution_count": 5,
   "metadata": {},
   "outputs": [
    {
     "name": "stdout",
     "output_type": "stream",
     "text": [
      "All students:\n",
      "(101, 'John', 85, 90, 88, 263)\n",
      "(102, 'Alice', 75, 80, 82, 237)\n",
      "(103, 'Bob', 90, 92, 88, 270)\n",
      "All students:\n",
      "(101, 'John', 85, 90, 88, 263)\n",
      "(102, 'Alice', 75, 80, 82, 237)\n",
      "\n",
      "DataFrame:\n",
      "   Roll Number   Name  Marks 1  Marks 2  Marks 3  Total Marks\n",
      "0          101   John       85       90       88          263\n",
      "1          102  Alice       75       80       82          237\n"
     ]
    }
   ],
   "source": [
    "import sqlite3\n",
    "import pandas as pd\n",
    "\n",
    "conn = sqlite3.connect('student.db')\n",
    "cursor = conn.cursor()\n",
    "\n",
    "cursor.execute('''CREATE TABLE IF NOT EXISTS students\n",
    "                (roll_num INTEGER PRIMARY KEY, name TEXT, marks1 INTEGER, marks2 INTEGER, marks3 INTEGER, total_marks INTEGER)''')\n",
    "\n",
    "cursor.execute(\"INSERT INTO students (name, roll_num, marks1, marks2, marks3, total_marks) VALUES (?, ?, ?, ?, ?, ?)\", ('John', 101, 85, 90, 88, 0))\n",
    "cursor.execute(\"INSERT INTO students (name, roll_num, marks1, marks2, marks3, total_marks) VALUES (?, ?, ?, ?, ?, ?)\", ('Alice', 102, 75, 80, 82, 0))\n",
    "cursor.execute(\"INSERT INTO students (name, roll_num, marks1, marks2, marks3, total_marks) VALUES (?, ?, ?, ?, ?, ?)\", ('Bob', 103, 90, 92, 88, 0))\n",
    "conn.commit()\n",
    "\n",
    "cursor.execute(\"UPDATE students SET total_marks = marks1 + marks2 + marks3\")\n",
    "conn.commit()\n",
    "\n",
    "cursor.execute(\"SELECT * FROM students\")\n",
    "print(\"All students:\")\n",
    "for row in cursor.fetchall():\n",
    "    print(row)\n",
    "\n",
    "cursor.execute(\"DELETE FROM students WHERE name = 'Bob'\")\n",
    "conn.commit()\n",
    "\n",
    "\n",
    "\n",
    "cursor.execute(\"UPDATE students SET total_marks = marks1 + marks2 + marks3\")\n",
    "conn.commit()\n",
    "\n",
    "cursor.execute(\"SELECT * FROM students\")\n",
    "print(\"All students:\")\n",
    "for row in cursor.fetchall():\n",
    "    print(row)\n",
    "\n",
    "cursor.execute(\"SELECT * FROM students\")\n",
    "data = cursor.fetchall()\n",
    "df = pd.DataFrame(data, columns=['Roll Number', 'Name', 'Marks 1', 'Marks 2', 'Marks 3', 'Total Marks'])\n",
    "\n",
    "print(\"\\nDataFrame:\")\n",
    "print(df)\n",
    "\n",
    "conn.close()\n"
   ]
  },
  {
   "cell_type": "markdown",
   "metadata": {},
   "source": [
    "- `import sqlite3`: Imports the SQLite library to work with SQLite databases.\n",
    "- `import pandas as pd`: Imports the Pandas library for data manipulation.\n",
    "- `conn = sqlite3.connect('student.db')`: Establishes a connection to the SQLite database named 'student.db'.\n",
    "- `cursor = conn.cursor()`: Creates a cursor object to execute SQL queries. A cursor is a control structure that enables traversal over the records in a database.\n",
    "\n",
    "##### Database Creation and Table Definition\n",
    "\n",
    "- `cursor.execute('''CREATE TABLE IF NOT EXISTS students (roll_num INTEGER PRIMARY KEY, name TEXT, marks1 INTEGER, marks2 INTEGER, marks3 INTEGER, total_marks INTEGER)''')`: Creates a table named 'students' if it does not exist, with columns for roll number, name, marks for three subjects, and total marks.\n",
    "\n",
    "##### Data Insertion and Manipulation\n",
    "\n",
    "- Data insertion:\n",
    "  - `cursor.execute(\"INSERT INTO students (name, roll_num, marks1, marks2, marks3, total_marks) VALUES (?, ?, ?, ?, ?, ?)\", ...)`: Inserts sample student data into the 'students' table.\n",
    "- Total marks calculation:\n",
    "  - `cursor.execute(\"UPDATE students SET total_marks = marks1 + marks2 + marks3\")`: Calculates the total marks for each student and updates the 'total_marks' column accordingly.\n",
    "\n",
    "##### Data Retrieval and Display\n",
    "\n",
    "- Data retrieval:\n",
    "  - `cursor.execute(\"SELECT * FROM students\")`: Retrieves all records from the 'students' table.\n",
    "  - `data = cursor.fetchall()`: Fetches the retrieved data.\n",
    "- Displaying data:\n",
    "  - `print(\"All students:\")`: Prints the retrieved student records.\n",
    "  - `for row in cursor.fetchall(): print(row)`: Iterates through the fetched records and prints each row.\n",
    "  - `df = pd.DataFrame(data, columns=['Roll Number', 'Name', 'Marks 1', 'Marks 2', 'Marks 3', 'Total Marks'])`: Creates a Pandas DataFrame from the retrieved data.\n",
    "  - `print(df)`: Prints the DataFrame containing student information.\n",
    "\n",
    "##### Database Closure\n",
    "\n",
    "- `conn.close()`: Closes the connection to the SQLite database.\n"
   ]
  },
  {
   "cell_type": "code",
   "execution_count": null,
   "metadata": {},
   "outputs": [],
   "source": []
  }
 ],
 "metadata": {
  "kernelspec": {
   "display_name": "Python 3 (ipykernel)",
   "language": "python",
   "name": "python3"
  },
  "language_info": {
   "codemirror_mode": {
    "name": "ipython",
    "version": 3
   },
   "file_extension": ".py",
   "mimetype": "text/x-python",
   "name": "python",
   "nbconvert_exporter": "python",
   "pygments_lexer": "ipython3",
   "version": "3.12.2"
  }
 },
 "nbformat": 4,
 "nbformat_minor": 4
}
